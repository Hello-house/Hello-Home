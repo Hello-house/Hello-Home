{
 "cells": [
  {
   "cell_type": "code",
   "execution_count": 5,
   "metadata": {},
   "outputs": [],
   "source": [
    "from flask import Flask, request, redirect\n",
    "import pandas as pd\n",
    "import numpy as np\n",
    "from sklearn.neighbors import KNeighborsClassifier\n",
    "import pickle\n",
    "from sklearn.externals import joblib"
   ]
  },
  {
   "cell_type": "code",
   "execution_count": 6,
   "metadata": {},
   "outputs": [
    {
     "name": "stdout",
     "output_type": "stream",
     "text": [
      " * Serving Flask app \"__main__\" (lazy loading)\n",
      " * Environment: production\n",
      "   WARNING: Do not use the development server in a production environment.\n",
      "   Use a production WSGI server instead.\n",
      " * Debug mode: off\n"
     ]
    },
    {
     "name": "stderr",
     "output_type": "stream",
     "text": [
      " * Running on http://localhost:9000/ (Press CTRL+C to quit)\n"
     ]
    }
   ],
   "source": [
    "from flask import Flask, request, redirect\n",
    "clf_from_joblib = joblib.load('homemodel.pkl')\n",
    "app = Flask(__name__)\n",
    "\n",
    "@app.route('/')\n",
    "def model():\n",
    "    value = request.args.get('value')\n",
    "    print(value)\n",
    "    X = np.array(value.split(',')).astype('int').reshape(1,-1)\n",
    "    print(X)\n",
    "    X_df = pd.DataFrame(X, columns=['q1', 'q2', 'q3', 'q4', 'q5', 'q6', 'q7', 'classic', 'profound', 'luxury', 'fancy', 'warm', 'soft', 'simple', 'comfortable', 'relax', 'feminine', 'romantic', 'bright', 'light', 'dynamic', 'friendly', 'pattern1_casual', 'pattern1_classic', 'pattern1_modern', 'pattern1_natural', 'pattern1_romantic', 'pattern2_casual', 'pattern2_classic', 'pattern2_modern', 'pattern2_natural', 'pattern2_romantic', 'pattern3_casual', 'pattern3_classic', 'pattern3_modern', 'pattern3_natural', 'pattern3_romantic', 'color1_casual', 'color1_classic', 'color1_modern', 'color1_natural', 'color1_romantic', 'color2_casual', 'color2_classic', 'color2_modern', 'color2_natural', 'color2_romantic'])\n",
    "    print(X_df)\n",
    "    result = clf_from_joblib.predict(X_df)\n",
    "    print(result)\n",
    "    \n",
    "    return redirect('http://localhost:8033/projects/sresult.jsp?id=' + result[0])\n",
    "\n",
    "if __name__ == '__main__':\n",
    "    app.run(host='localhost', port='9000')"
   ]
  },
  {
   "cell_type": "code",
   "execution_count": 13,
   "metadata": {},
   "outputs": [
    {
     "ename": "ValueError",
     "evalue": "feature_names mismatch: ['q1', 'q2', 'q3', 'q4', 'q5', 'q6', 'q7', 'classic', 'profound', 'luxury', 'fancy', 'warm', 'soft', 'simple', 'comfortable', 'relax', 'feminine', 'romantic', 'bright', 'light', 'dynamic', 'friendly', 'pattern1_casual', 'pattern1_classic', 'pattern1_modern', 'pattern1_natural', 'pattern1_romantic', 'pattern2_casual', 'pattern2_classic', 'pattern2_modern', 'pattern2_natural', 'pattern2_romantic', 'pattern3_casual', 'pattern3_classic', 'pattern3_modern', 'pattern3_natural', 'pattern3_romantic', 'color1_casual', 'color1_classic', 'color1_modern', 'color1_natural', 'color1_romantic', 'color2_casual', 'color2_classic', 'color2_modern', 'color2_natural', 'color2_romantic'] ['f0', 'f1', 'f2', 'f3', 'f4', 'f5', 'f6', 'f7', 'f8', 'f9', 'f10', 'f11', 'f12', 'f13', 'f14', 'f15', 'f16', 'f17', 'f18', 'f19', 'f20', 'f21', 'f22', 'f23', 'f24', 'f25', 'f26', 'f27', 'f28', 'f29', 'f30', 'f31', 'f32', 'f33', 'f34', 'f35', 'f36', 'f37', 'f38', 'f39', 'f40', 'f41', 'f42', 'f43', 'f44', 'f45', 'f46']\nexpected pattern2_modern, dynamic, q1, pattern2_romantic, color1_modern, color1_casual, q6, pattern1_modern, q3, light, pattern3_casual, pattern1_classic, simple, fancy, pattern2_natural, q4, color2_natural, pattern1_natural, q7, q5, color2_modern, relax, pattern2_casual, profound, friendly, pattern3_natural, color2_romantic, pattern1_romantic, pattern2_classic, color1_classic, color1_natural, color2_casual, feminine, color2_classic, pattern3_classic, pattern3_romantic, pattern3_modern, bright, q2, classic, comfortable, romantic, warm, luxury, soft, pattern1_casual, color1_romantic in input data\ntraining data did not have the following fields: f39, f12, f32, f37, f42, f2, f25, f18, f1, f45, f0, f15, f20, f31, f24, f13, f3, f46, f40, f36, f29, f8, f34, f4, f30, f35, f11, f19, f26, f43, f14, f38, f17, f5, f7, f6, f10, f41, f22, f16, f33, f44, f23, f27, f28, f21, f9",
     "output_type": "error",
     "traceback": [
      "\u001b[1;31m---------------------------------------------------------------------------\u001b[0m",
      "\u001b[1;31mValueError\u001b[0m                                Traceback (most recent call last)",
      "\u001b[1;32m<ipython-input-13-bc4d78e03bd3>\u001b[0m in \u001b[0;36m<module>\u001b[1;34m\u001b[0m\n\u001b[1;32m----> 1\u001b[1;33m \u001b[0mclf_from_joblib\u001b[0m\u001b[1;33m.\u001b[0m\u001b[0mpredict\u001b[0m\u001b[1;33m(\u001b[0m\u001b[0mnp\u001b[0m\u001b[1;33m.\u001b[0m\u001b[0mzeros\u001b[0m\u001b[1;33m(\u001b[0m\u001b[1;36m47\u001b[0m\u001b[1;33m)\u001b[0m\u001b[1;33m.\u001b[0m\u001b[0mreshape\u001b[0m\u001b[1;33m(\u001b[0m\u001b[1;36m1\u001b[0m\u001b[1;33m,\u001b[0m\u001b[1;33m-\u001b[0m\u001b[1;36m1\u001b[0m\u001b[1;33m)\u001b[0m\u001b[1;33m)\u001b[0m\u001b[1;33m\u001b[0m\u001b[1;33m\u001b[0m\u001b[0m\n\u001b[0m",
      "\u001b[1;32m~\\AppData\\Local\\Continuum\\anaconda3\\lib\\site-packages\\xgboost\\sklearn.py\u001b[0m in \u001b[0;36mpredict\u001b[1;34m(self, data, output_margin, ntree_limit, validate_features, base_margin)\u001b[0m\n\u001b[0;32m    885\u001b[0m             \u001b[0moutput_margin\u001b[0m\u001b[1;33m=\u001b[0m\u001b[0moutput_margin\u001b[0m\u001b[1;33m,\u001b[0m\u001b[1;33m\u001b[0m\u001b[1;33m\u001b[0m\u001b[0m\n\u001b[0;32m    886\u001b[0m             \u001b[0mntree_limit\u001b[0m\u001b[1;33m=\u001b[0m\u001b[0mntree_limit\u001b[0m\u001b[1;33m,\u001b[0m\u001b[1;33m\u001b[0m\u001b[1;33m\u001b[0m\u001b[0m\n\u001b[1;32m--> 887\u001b[1;33m             validate_features=validate_features)\n\u001b[0m\u001b[0;32m    888\u001b[0m         \u001b[1;32mif\u001b[0m \u001b[0moutput_margin\u001b[0m\u001b[1;33m:\u001b[0m\u001b[1;33m\u001b[0m\u001b[1;33m\u001b[0m\u001b[0m\n\u001b[0;32m    889\u001b[0m             \u001b[1;31m# If output_margin is active, simply return the scores\u001b[0m\u001b[1;33m\u001b[0m\u001b[1;33m\u001b[0m\u001b[1;33m\u001b[0m\u001b[0m\n",
      "\u001b[1;32m~\\AppData\\Local\\Continuum\\anaconda3\\lib\\site-packages\\xgboost\\core.py\u001b[0m in \u001b[0;36mpredict\u001b[1;34m(self, data, output_margin, ntree_limit, pred_leaf, pred_contribs, approx_contribs, pred_interactions, validate_features, training)\u001b[0m\n\u001b[0;32m   1440\u001b[0m \u001b[1;33m\u001b[0m\u001b[0m\n\u001b[0;32m   1441\u001b[0m         \u001b[1;32mif\u001b[0m \u001b[0mvalidate_features\u001b[0m\u001b[1;33m:\u001b[0m\u001b[1;33m\u001b[0m\u001b[1;33m\u001b[0m\u001b[0m\n\u001b[1;32m-> 1442\u001b[1;33m             \u001b[0mself\u001b[0m\u001b[1;33m.\u001b[0m\u001b[0m_validate_features\u001b[0m\u001b[1;33m(\u001b[0m\u001b[0mdata\u001b[0m\u001b[1;33m)\u001b[0m\u001b[1;33m\u001b[0m\u001b[1;33m\u001b[0m\u001b[0m\n\u001b[0m\u001b[0;32m   1443\u001b[0m \u001b[1;33m\u001b[0m\u001b[0m\n\u001b[0;32m   1444\u001b[0m         \u001b[0mlength\u001b[0m \u001b[1;33m=\u001b[0m \u001b[0mc_bst_ulong\u001b[0m\u001b[1;33m(\u001b[0m\u001b[1;33m)\u001b[0m\u001b[1;33m\u001b[0m\u001b[1;33m\u001b[0m\u001b[0m\n",
      "\u001b[1;32m~\\AppData\\Local\\Continuum\\anaconda3\\lib\\site-packages\\xgboost\\core.py\u001b[0m in \u001b[0;36m_validate_features\u001b[1;34m(self, data)\u001b[0m\n\u001b[0;32m   1852\u001b[0m \u001b[1;33m\u001b[0m\u001b[0m\n\u001b[0;32m   1853\u001b[0m                 raise ValueError(msg.format(self.feature_names,\n\u001b[1;32m-> 1854\u001b[1;33m                                             data.feature_names))\n\u001b[0m\u001b[0;32m   1855\u001b[0m \u001b[1;33m\u001b[0m\u001b[0m\n\u001b[0;32m   1856\u001b[0m     def get_split_value_histogram(self, feature, fmap='', bins=None,\n",
      "\u001b[1;31mValueError\u001b[0m: feature_names mismatch: ['q1', 'q2', 'q3', 'q4', 'q5', 'q6', 'q7', 'classic', 'profound', 'luxury', 'fancy', 'warm', 'soft', 'simple', 'comfortable', 'relax', 'feminine', 'romantic', 'bright', 'light', 'dynamic', 'friendly', 'pattern1_casual', 'pattern1_classic', 'pattern1_modern', 'pattern1_natural', 'pattern1_romantic', 'pattern2_casual', 'pattern2_classic', 'pattern2_modern', 'pattern2_natural', 'pattern2_romantic', 'pattern3_casual', 'pattern3_classic', 'pattern3_modern', 'pattern3_natural', 'pattern3_romantic', 'color1_casual', 'color1_classic', 'color1_modern', 'color1_natural', 'color1_romantic', 'color2_casual', 'color2_classic', 'color2_modern', 'color2_natural', 'color2_romantic'] ['f0', 'f1', 'f2', 'f3', 'f4', 'f5', 'f6', 'f7', 'f8', 'f9', 'f10', 'f11', 'f12', 'f13', 'f14', 'f15', 'f16', 'f17', 'f18', 'f19', 'f20', 'f21', 'f22', 'f23', 'f24', 'f25', 'f26', 'f27', 'f28', 'f29', 'f30', 'f31', 'f32', 'f33', 'f34', 'f35', 'f36', 'f37', 'f38', 'f39', 'f40', 'f41', 'f42', 'f43', 'f44', 'f45', 'f46']\nexpected pattern2_modern, dynamic, q1, pattern2_romantic, color1_modern, color1_casual, q6, pattern1_modern, q3, light, pattern3_casual, pattern1_classic, simple, fancy, pattern2_natural, q4, color2_natural, pattern1_natural, q7, q5, color2_modern, relax, pattern2_casual, profound, friendly, pattern3_natural, color2_romantic, pattern1_romantic, pattern2_classic, color1_classic, color1_natural, color2_casual, feminine, color2_classic, pattern3_classic, pattern3_romantic, pattern3_modern, bright, q2, classic, comfortable, romantic, warm, luxury, soft, pattern1_casual, color1_romantic in input data\ntraining data did not have the following fields: f39, f12, f32, f37, f42, f2, f25, f18, f1, f45, f0, f15, f20, f31, f24, f13, f3, f46, f40, f36, f29, f8, f34, f4, f30, f35, f11, f19, f26, f43, f14, f38, f17, f5, f7, f6, f10, f41, f22, f16, f33, f44, f23, f27, f28, f21, f9"
     ]
    }
   ],
   "source": [
    "clf_from_joblib.predict(np.zeros(47).reshape(1,-1))"
   ]
  },
  {
   "cell_type": "code",
   "execution_count": null,
   "metadata": {},
   "outputs": [],
   "source": [
    "np.zeros(47)"
   ]
  },
  {
   "cell_type": "code",
   "execution_count": null,
   "metadata": {},
   "outputs": [],
   "source": []
  },
  {
   "cell_type": "code",
   "execution_count": 6,
   "metadata": {},
   "outputs": [],
   "source": [
    "re = pd.read_csv('re.csv')"
   ]
  },
  {
   "cell_type": "code",
   "execution_count": 10,
   "metadata": {},
   "outputs": [],
   "source": [
    "re = re.drop('index',axis=1)"
   ]
  },
  {
   "cell_type": "code",
   "execution_count": 11,
   "metadata": {},
   "outputs": [],
   "source": [
    "pre = clf_from_joblib.predict(re)"
   ]
  },
  {
   "cell_type": "code",
   "execution_count": 12,
   "metadata": {},
   "outputs": [
    {
     "data": {
      "text/plain": [
       "array(['casual'], dtype=object)"
      ]
     },
     "execution_count": 12,
     "metadata": {},
     "output_type": "execute_result"
    }
   ],
   "source": [
    "pre"
   ]
  }
 ],
 "metadata": {
  "kernelspec": {
   "display_name": "Python 3",
   "language": "python",
   "name": "python3"
  },
  "language_info": {
   "codemirror_mode": {
    "name": "ipython",
    "version": 3
   },
   "file_extension": ".py",
   "mimetype": "text/x-python",
   "name": "python",
   "nbconvert_exporter": "python",
   "pygments_lexer": "ipython3",
   "version": "3.7.1"
  }
 },
 "nbformat": 4,
 "nbformat_minor": 2
}
